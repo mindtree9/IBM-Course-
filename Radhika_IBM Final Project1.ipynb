{
 "cells": [
  {
   "cell_type": "markdown",
   "metadata": {},
   "source": [
    "<center>\n",
    "    <img src=\"https://cf-courses-data.s3.us.cloud-object-storage.appdomain.cloud/IBMDeveloperSkillsNetwork-DS0105EN-SkillsNetwork/labs/Module2/images/SN_web_lightmode.png\" width=\"300\" alt=\"cognitiveclass.ai logo\">\n",
    "</center>\n"
   ]
  },
  {
   "cell_type": "markdown",
   "metadata": {},
   "source": [
    "#### Add your code below following the instructions given in the course\n"
   ]
  },
  {
   "cell_type": "markdown",
   "metadata": {},
   "source": [
    "# Radhika Project"
   ]
  },
  {
   "cell_type": "markdown",
   "metadata": {},
   "source": [
    "## Creating this Notebook for final project of IBM - Tools for Dofata Science Course. "
   ]
  },
  {
   "cell_type": "markdown",
   "metadata": {},
   "source": [
    "List data science languages \n",
    "1 R\n",
    "2 Python\n",
    "3 Java\n",
    "4 SQL\n",
    "5 SAS\n",
    "6 Scala\n"
   ]
  },
  {
   "cell_type": "markdown",
   "metadata": {},
   "source": [
    "List data science libraries\n",
    "1 Pandas\n",
    "2 Seaborn\n",
    "3 TensorFlow\n",
    "4 NumPy\n",
    "5 PyTorch"
   ]
  },
  {
   "cell_type": "markdown",
   "metadata": {},
   "source": [
    "| Tool              | Description                                                                                                       |\n",
    "|-------------------|-------------------------------------------------------------------------------------------------------------------|\n",
    "| Python            |A programming language used in Data Science for its easy to use and large ecosystem|\n",
    "| R                 | Statistical programming language with a strong focus on data analysis and visualization                              |\n",
    "| SQL               | Standard language used to manage and manipulate relational databases                                                |\n",
    "| Tableau           | Data visualization software that allows to create interactive dashboards and visualizations with ease           |\n",
    "| Excel             | Spreadsheet software with basic data analysis. \n",
    "| Pandas            | Python library for data manipulation and analysis|\n"
   ]
  },
  {
   "cell_type": "markdown",
   "metadata": {},
   "source": [
    "## Arithmetic Expressions\n",
    "\n",
    "Arithmetic expressions are mathematical statements that involve numbers and mathematical operations:\n",
    "\n",
    "- `1 + 6`: adds 1 and 6 together, resulting in 7\n",
    "- `3 - 5`: subtracts 3 from -5, resulting in -2\n",
    "- `0 * 6`: multiplies 0 and 6 together, resulting in 0\n",
    "- `27 / 3`: divides 27 by 3, resulting in 9\n"
   ]
  },
  {
   "cell_type": "code",
   "execution_count": 1,
   "metadata": {},
   "outputs": [
    {
     "name": "stdout",
     "output_type": "stream",
     "text": [
      "20\n"
     ]
    }
   ],
   "source": [
    "x = 2\n",
    "y = 9\n",
    "z = x * y + 2\n",
    "print(z)\n"
   ]
  },
  {
   "cell_type": "code",
   "execution_count": null,
   "metadata": {},
   "outputs": [],
   "source": [
    "minutes = 150\n",
    "hours = minutes / 60\n",
    "print(\"150 minutes is equal to\", hours, \"hours.\")\n"
   ]
  },
  {
   "cell_type": "markdown",
   "metadata": {},
   "source": [
    "# Objectives\n",
    "\n",
    "- To learn a new language we must focus on learning the basics\n",
    "- Understand basic data types and structures\n",
    "- Explore the type of Languages currently available\n",
    "- Familiarize with functions and object-oriented programming concepts\n",
    "- Get started with a proper course which can help learning the easiest and effective way. \n"
   ]
  },
  {
   "cell_type": "markdown",
   "metadata": {},
   "source": [
    "Created by - **Radhika Goyal** "
   ]
  }
 ],
 "metadata": {
  "kernelspec": {
   "display_name": "Python",
   "language": "python",
   "name": "conda-env-python-py"
  },
  "language_info": {
   "codemirror_mode": {
    "name": "ipython",
    "version": 3
   },
   "file_extension": ".py",
   "mimetype": "text/x-python",
   "name": "python",
   "nbconvert_exporter": "python",
   "pygments_lexer": "ipython3",
   "version": "3.7.12"
  }
 },
 "nbformat": 4,
 "nbformat_minor": 4
}
