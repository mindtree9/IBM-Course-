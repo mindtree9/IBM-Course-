{
 "cells": [
  {
   "cell_type": "markdown",
   "metadata": {
    "collapsed": true
   },
   "source": [
    "# My Jupyter Notebook on IBM Watson Studio"
   ]
  },
  {
   "cell_type": "markdown",
   "metadata": {},
   "source": [
    "##**Radhika Goyal** \n",
    "Business Analyst \n"
   ]
  },
  {
   "cell_type": "markdown",
   "metadata": {},
   "source": [
    "*I am interested in data science because it allows me to make sense of vast amounts of data and draw meaningful insights from it. Also with the help of data visualization tools, I can present data in a way that is engaging and easy to understand, making it possible to communicate insights to a wide range of stakeholders.For example in medical industry it enables us to integrate and analyze data from various sources, such as electronic health records, clinical trials, and genomic data. By combining these sources, we can gain a more comprehensive understanding of a patient's health and develop more effective treatments*"
   ]
  },
  {
   "cell_type": "markdown",
   "metadata": {},
   "source": [
    "### In the follwoing cell(cell5) below code should print answer for following equation '1+3'"
   ]
  },
  {
   "cell_type": "code",
   "execution_count": 3,
   "metadata": {},
   "outputs": [
    {
     "name": "stdout",
     "output_type": "stream",
     "text": [
      "[1] 4\n"
     ]
    }
   ],
   "source": [
    "print((1+3))"
   ]
  },
  {
   "cell_type": "markdown",
   "metadata": {},
   "source": [
    "~~This is a display for strikethrough text~~\n",
    "\n",
    "<!--This is a display of add a Horizontal Line-->\n",
    "\n",
    "\n",
    "<!-- Adding Link with sample text -->\n",
    "[Coursera](https://www.Coursera.com/)\n",
    "\n",
    "\n",
    "<!-- Tables --> \n",
    "| Product | Company | Price | \n",
    "|---------- |:-------------: |------: | \n",
    "| Product 1 | Company 1 | $1600 | \n",
    "| Product 2 | Company 2 | $1700 | \n",
    "| Product 3 | Company 3 | $1800 | "
   ]
  }
 ],
 "metadata": {
  "kernelspec": {
   "display_name": "R 3.6 with Spark",
   "language": "R",
   "name": "r"
  },
  "language_info": {
   "codemirror_mode": "r",
   "file_extension": ".r",
   "mimetype": "text/x-r-source",
   "name": "R",
   "pygments_lexer": "r",
   "version": "3.6.3"
  }
 },
 "nbformat": 4,
 "nbformat_minor": 1
}
